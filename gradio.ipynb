{
 "cells": [
  {
   "cell_type": "code",
   "execution_count": 6,
   "metadata": {},
   "outputs": [
    {
     "name": "stdout",
     "output_type": "stream",
     "text": [
      "所取得的資料型態： <class 'str'>\n",
      "===得到的部份HTML內容===\n",
      " ock; min-width:160px; }\n",
      ".r53196b-mib-borDer-r53196b_1080 {padding: 0; width: 180px; height: 280px; margin: 12px auto; overflow: hidden;}\n",
      ".r53196b-mib-borDer-r53196b div {position: relative;}\n",
      "</style>\n",
      "<link rel=\"stylesheet\" href=\"//front.pixfs.net/css/mib/video.css?v=2280bef3d357d5ed81dc049c51019c38\" type=\"text/css\">\n",
      "<link rel=\"stylesheet\" href=\"//front.pixfs.net/css/lang-css.css?v=2280bef3d357d5ed81dc049c51019c38\" type=\"text/css\">\n",
      "<link rel=\"stylesheet\" href=\"//front.pixfs.net/css/iframe-popup.css?v=2280bef3d357d5ed81dc049c51019c38\" type=\"text/css\">\n",
      "<link rel=\"stylesheet\" href=\"//s.pixfs.net/blog/plugins/plugins.min.css?v=2280bef3d357d5ed81dc049c51019c38\" type=\"text/css\">\n",
      "<link rel=\"stylesheet\" href=\"//front.pixfs.net/comment/openid-comment.css?v=2280bef3d357d5ed81dc049c51019c38\" type=\"text/css\">\n",
      "<link rel=\"stylesheet\" href=\"//front.pixf\n"
     ]
    }
   ],
   "source": [
    "import urllib.request as req\n",
    "url = \"https://lintzuyang79.pixnet.net/blog\"\n",
    "# 幫request加上一個header\n",
    "newURL = req.Request(url, headers = {\n",
    "    \"User-Agent\":\"Mozilla/5.0 (Macintosh; Intel Mac OS X 10.14; rv:72.0) Gecko/20100101 Firefox/72.0\"\n",
    "})\n",
    "\n",
    "with req.urlopen(newURL) as response:\n",
    "    data = response.read().decode(\"utf-8\")\n",
    "print('所取得的資料型態：',type(data))\n",
    "print('===得到的部份HTML內容===\\n', data[2651:3500])"
   ]
  },
  {
   "cell_type": "code",
   "execution_count": 4,
   "metadata": {},
   "outputs": [
    {
     "name": "stdout",
     "output_type": "stream",
     "text": [
      "\u001b[33mDEPRECATION: Configuring installation scheme with distutils config files is deprecated and will no longer work in the near future. If you are using a Homebrew or Linuxbrew Python, please see discussion at https://github.com/Homebrew/homebrew-core/issues/76621\u001b[0m\u001b[33m\n",
      "\u001b[0mCollecting beautifulsoup4\n",
      "  Downloading beautifulsoup4-4.12.0-py3-none-any.whl (132 kB)\n",
      "\u001b[2K     \u001b[90m━━━━━━━━━━━━━━━━━━━━━━━━━━━━━━━━━━━━━━━\u001b[0m \u001b[32m132.2/132.2 kB\u001b[0m \u001b[31m1.9 MB/s\u001b[0m eta \u001b[36m0:00:00\u001b[0ma \u001b[36m0:00:01\u001b[0m\n",
      "\u001b[?25hCollecting soupsieve>1.2\n",
      "  Downloading soupsieve-2.4-py3-none-any.whl (37 kB)\n",
      "Installing collected packages: soupsieve, beautifulsoup4\n",
      "\u001b[33m  DEPRECATION: Configuring installation scheme with distutils config files is deprecated and will no longer work in the near future. If you are using a Homebrew or Linuxbrew Python, please see discussion at https://github.com/Homebrew/homebrew-core/issues/76621\u001b[0m\u001b[33m\n",
      "\u001b[0m\u001b[33m  DEPRECATION: Configuring installation scheme with distutils config files is deprecated and will no longer work in the near future. If you are using a Homebrew or Linuxbrew Python, please see discussion at https://github.com/Homebrew/homebrew-core/issues/76621\u001b[0m\u001b[33m\n",
      "\u001b[0m\u001b[33mDEPRECATION: Configuring installation scheme with distutils config files is deprecated and will no longer work in the near future. If you are using a Homebrew or Linuxbrew Python, please see discussion at https://github.com/Homebrew/homebrew-core/issues/76621\u001b[0m\u001b[33m\n",
      "\u001b[0mSuccessfully installed beautifulsoup4-4.12.0 soupsieve-2.4\n",
      "\u001b[33mWARNING: There was an error checking the latest version of pip.\u001b[0m\u001b[33m\n",
      "\u001b[0mNote: you may need to restart the kernel to use updated packages.\n"
     ]
    }
   ],
   "source": [
    "%pip install beautifulsoup4\n",
    "#安裝解析 HTML 所需套件"
   ]
  },
  {
   "cell_type": "code",
   "execution_count": 7,
   "metadata": {},
   "outputs": [],
   "source": [
    "import bs4\n",
    "root = bs4.BeautifulSoup(data,\"html.parser\")#解析器"
   ]
  },
  {
   "cell_type": "code",
   "execution_count": 8,
   "metadata": {},
   "outputs": [],
   "source": [
    "titles = root.find_all(\"li\", class_=\"title\")#find title in div"
   ]
  },
  {
   "cell_type": "code",
   "execution_count": 9,
   "metadata": {},
   "outputs": [
    {
     "name": "stdout",
     "output_type": "stream",
     "text": [
      "台北美食【鮨処律】超！好！吃！的橄欖油煮鱈魚白子與日本牡蠣／鮮甜的牡丹蝦海膽醬／特別的鰤魚安康魚肝醬／紹興酒烏魚子 炸龍蝦\n"
     ]
    }
   ],
   "source": [
    "print(titles[0].text)"
   ]
  },
  {
   "cell_type": "code",
   "execution_count": null,
   "metadata": {},
   "outputs": [],
   "source": []
  }
 ],
 "metadata": {
  "kernelspec": {
   "display_name": "Python 3",
   "language": "python",
   "name": "python3"
  },
  "language_info": {
   "codemirror_mode": {
    "name": "ipython",
    "version": 3
   },
   "file_extension": ".py",
   "mimetype": "text/x-python",
   "name": "python",
   "nbconvert_exporter": "python",
   "pygments_lexer": "ipython3",
   "version": "3.9.13"
  },
  "orig_nbformat": 4
 },
 "nbformat": 4,
 "nbformat_minor": 2
}
